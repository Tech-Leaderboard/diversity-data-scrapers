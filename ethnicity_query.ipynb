{
 "cells": [
  {
   "cell_type": "code",
   "execution_count": 87,
   "metadata": {},
   "outputs": [],
   "source": [
    "import json\n",
    "import numpy as np\n",
    "import demjson\n",
    "import pandas as pd\n",
    "import urllib\n",
    "from ipykernel import kernelapp as app"
   ]
  },
  {
   "cell_type": "code",
   "execution_count": 88,
   "metadata": {},
   "outputs": [],
   "source": [
    "# load data\n",
    "data_path = \"unique_inventor.csv\"\n",
    "unique_inventors = pd.read_csv(data_path)\n",
    "query_eth_json_base = 'http://www.name-prism.com/api_eth/json/'"
   ]
  },
  {
   "cell_type": "code",
   "execution_count": 89,
   "metadata": {},
   "outputs": [
    {
     "data": {
      "text/html": [
       "<div>\n",
       "<style>\n",
       "    .dataframe thead tr:only-child th {\n",
       "        text-align: right;\n",
       "    }\n",
       "\n",
       "    .dataframe thead th {\n",
       "        text-align: left;\n",
       "    }\n",
       "\n",
       "    .dataframe tbody tr th {\n",
       "        vertical-align: top;\n",
       "    }\n",
       "</style>\n",
       "<table border=\"1\" class=\"dataframe\">\n",
       "  <thead>\n",
       "    <tr style=\"text-align: right;\">\n",
       "      <th></th>\n",
       "      <th>inventor_first_name</th>\n",
       "      <th>inventor_last_name</th>\n",
       "      <th>inventor_country</th>\n",
       "      <th>inventor_id</th>\n",
       "    </tr>\n",
       "  </thead>\n",
       "  <tbody>\n",
       "    <tr>\n",
       "      <th>0</th>\n",
       "      <td>Atul</td>\n",
       "      <td>Purohit</td>\n",
       "      <td>AE</td>\n",
       "      <td>5891620-2</td>\n",
       "    </tr>\n",
       "    <tr>\n",
       "      <th>1</th>\n",
       "      <td>Ivan</td>\n",
       "      <td>Boyd</td>\n",
       "      <td>AE</td>\n",
       "      <td>4864621-1</td>\n",
       "    </tr>\n",
       "    <tr>\n",
       "      <th>2</th>\n",
       "      <td>Petr</td>\n",
       "      <td>Kubanek</td>\n",
       "      <td>AE</td>\n",
       "      <td>7741522-7</td>\n",
       "    </tr>\n",
       "    <tr>\n",
       "      <th>3</th>\n",
       "      <td>Barry</td>\n",
       "      <td>Potter</td>\n",
       "      <td>AE</td>\n",
       "      <td>5604215-2</td>\n",
       "    </tr>\n",
       "    <tr>\n",
       "      <th>4</th>\n",
       "      <td>Bruno</td>\n",
       "      <td>Schuermans</td>\n",
       "      <td>AE</td>\n",
       "      <td>6981358-4</td>\n",
       "    </tr>\n",
       "  </tbody>\n",
       "</table>\n",
       "</div>"
      ],
      "text/plain": [
       "  inventor_first_name inventor_last_name inventor_country inventor_id\n",
       "0                Atul            Purohit               AE   5891620-2\n",
       "1                Ivan               Boyd               AE   4864621-1\n",
       "2                Petr            Kubanek               AE   7741522-7\n",
       "3               Barry             Potter               AE   5604215-2\n",
       "4               Bruno         Schuermans               AE   6981358-4"
      ]
     },
     "execution_count": 89,
     "metadata": {},
     "output_type": "execute_result"
    }
   ],
   "source": [
    "unique_inventors.head()"
   ]
  },
  {
   "cell_type": "code",
   "execution_count": 90,
   "metadata": {},
   "outputs": [
    {
     "data": {
      "text/plain": [
       "(339453, 4)"
      ]
     },
     "execution_count": 90,
     "metadata": {},
     "output_type": "execute_result"
    }
   ],
   "source": [
    "unique_inventors.shape"
   ]
  },
  {
   "cell_type": "code",
   "execution_count": 91,
   "metadata": {},
   "outputs": [],
   "source": [
    "# insert new colomns first\n",
    "ethnicities = ['White', '2PRACE', 'Hispanic', 'Black', 'API', 'AIAN']\n",
    "i = 4\n",
    "for eth in ethnicities:\n",
    "    new_col = pd.Series([0]*unique_inventors.shape[0])\n",
    "    unique_inventors.insert(i, eth, new_col)\n",
    "    i += 1"
   ]
  },
  {
   "cell_type": "code",
   "execution_count": 92,
   "metadata": {},
   "outputs": [
    {
     "data": {
      "text/html": [
       "<div>\n",
       "<style>\n",
       "    .dataframe thead tr:only-child th {\n",
       "        text-align: right;\n",
       "    }\n",
       "\n",
       "    .dataframe thead th {\n",
       "        text-align: left;\n",
       "    }\n",
       "\n",
       "    .dataframe tbody tr th {\n",
       "        vertical-align: top;\n",
       "    }\n",
       "</style>\n",
       "<table border=\"1\" class=\"dataframe\">\n",
       "  <thead>\n",
       "    <tr style=\"text-align: right;\">\n",
       "      <th></th>\n",
       "      <th>inventor_first_name</th>\n",
       "      <th>inventor_last_name</th>\n",
       "      <th>inventor_country</th>\n",
       "      <th>inventor_id</th>\n",
       "      <th>White</th>\n",
       "      <th>2PRACE</th>\n",
       "      <th>Hispanic</th>\n",
       "      <th>Black</th>\n",
       "      <th>API</th>\n",
       "      <th>AIAN</th>\n",
       "    </tr>\n",
       "  </thead>\n",
       "  <tbody>\n",
       "    <tr>\n",
       "      <th>0</th>\n",
       "      <td>Atul</td>\n",
       "      <td>Purohit</td>\n",
       "      <td>AE</td>\n",
       "      <td>5891620-2</td>\n",
       "      <td>0</td>\n",
       "      <td>0</td>\n",
       "      <td>0</td>\n",
       "      <td>0</td>\n",
       "      <td>0</td>\n",
       "      <td>0</td>\n",
       "    </tr>\n",
       "    <tr>\n",
       "      <th>1</th>\n",
       "      <td>Ivan</td>\n",
       "      <td>Boyd</td>\n",
       "      <td>AE</td>\n",
       "      <td>4864621-1</td>\n",
       "      <td>0</td>\n",
       "      <td>0</td>\n",
       "      <td>0</td>\n",
       "      <td>0</td>\n",
       "      <td>0</td>\n",
       "      <td>0</td>\n",
       "    </tr>\n",
       "    <tr>\n",
       "      <th>2</th>\n",
       "      <td>Petr</td>\n",
       "      <td>Kubanek</td>\n",
       "      <td>AE</td>\n",
       "      <td>7741522-7</td>\n",
       "      <td>0</td>\n",
       "      <td>0</td>\n",
       "      <td>0</td>\n",
       "      <td>0</td>\n",
       "      <td>0</td>\n",
       "      <td>0</td>\n",
       "    </tr>\n",
       "    <tr>\n",
       "      <th>3</th>\n",
       "      <td>Barry</td>\n",
       "      <td>Potter</td>\n",
       "      <td>AE</td>\n",
       "      <td>5604215-2</td>\n",
       "      <td>0</td>\n",
       "      <td>0</td>\n",
       "      <td>0</td>\n",
       "      <td>0</td>\n",
       "      <td>0</td>\n",
       "      <td>0</td>\n",
       "    </tr>\n",
       "    <tr>\n",
       "      <th>4</th>\n",
       "      <td>Bruno</td>\n",
       "      <td>Schuermans</td>\n",
       "      <td>AE</td>\n",
       "      <td>6981358-4</td>\n",
       "      <td>0</td>\n",
       "      <td>0</td>\n",
       "      <td>0</td>\n",
       "      <td>0</td>\n",
       "      <td>0</td>\n",
       "      <td>0</td>\n",
       "    </tr>\n",
       "  </tbody>\n",
       "</table>\n",
       "</div>"
      ],
      "text/plain": [
       "  inventor_first_name inventor_last_name inventor_country inventor_id  White  \\\n",
       "0                Atul            Purohit               AE   5891620-2      0   \n",
       "1                Ivan               Boyd               AE   4864621-1      0   \n",
       "2                Petr            Kubanek               AE   7741522-7      0   \n",
       "3               Barry             Potter               AE   5604215-2      0   \n",
       "4               Bruno         Schuermans               AE   6981358-4      0   \n",
       "\n",
       "   2PRACE  Hispanic  Black  API  AIAN  \n",
       "0       0         0      0    0     0  \n",
       "1       0         0      0    0     0  \n",
       "2       0         0      0    0     0  \n",
       "3       0         0      0    0     0  \n",
       "4       0         0      0    0     0  "
      ]
     },
     "execution_count": 92,
     "metadata": {},
     "output_type": "execute_result"
    }
   ],
   "source": [
    "unique_inventors.head()"
   ]
  },
  {
   "cell_type": "code",
   "execution_count": 93,
   "metadata": {},
   "outputs": [
    {
     "data": {
      "text/plain": [
       "(339453, 10)"
      ]
     },
     "execution_count": 93,
     "metadata": {},
     "output_type": "execute_result"
    }
   ],
   "source": [
    "unique_inventors.shape"
   ]
  },
  {
   "cell_type": "code",
   "execution_count": 97,
   "metadata": {
    "collapsed": true
   },
   "outputs": [],
   "source": [
    "for i in range(unique_inventors.shape[0]):\n",
    "#for i in range(500):\n",
    "    name = unique_inventors.loc[i, 'inventor_first_name'] + ' ' + unique_inventors.loc[i, 'inventor_last_name']\n",
    "    percent_code = urllib.request.quote(name)\n",
    "    url = query_eth_json_base + percent_code\n",
    "    response = urllib.request.urlopen(url).read()\n",
    "    response = response.decode(\"utf-8\") \n",
    "    result = json.loads(response)\n",
    "    for eth in result:\n",
    "        unique_inventors.loc[i, eth] = result[eth]"
   ]
  },
  {
   "cell_type": "code",
   "execution_count": 98,
   "metadata": {},
   "outputs": [
    {
     "data": {
      "text/html": [
       "<div>\n",
       "<style>\n",
       "    .dataframe thead tr:only-child th {\n",
       "        text-align: right;\n",
       "    }\n",
       "\n",
       "    .dataframe thead th {\n",
       "        text-align: left;\n",
       "    }\n",
       "\n",
       "    .dataframe tbody tr th {\n",
       "        vertical-align: top;\n",
       "    }\n",
       "</style>\n",
       "<table border=\"1\" class=\"dataframe\">\n",
       "  <thead>\n",
       "    <tr style=\"text-align: right;\">\n",
       "      <th></th>\n",
       "      <th>inventor_first_name</th>\n",
       "      <th>inventor_last_name</th>\n",
       "      <th>inventor_country</th>\n",
       "      <th>inventor_id</th>\n",
       "      <th>White</th>\n",
       "      <th>2PRACE</th>\n",
       "      <th>Hispanic</th>\n",
       "      <th>Black</th>\n",
       "      <th>API</th>\n",
       "      <th>AIAN</th>\n",
       "    </tr>\n",
       "  </thead>\n",
       "  <tbody>\n",
       "    <tr>\n",
       "      <th>0</th>\n",
       "      <td>Atul</td>\n",
       "      <td>Purohit</td>\n",
       "      <td>AE</td>\n",
       "      <td>5891620-2</td>\n",
       "      <td>0.000880</td>\n",
       "      <td>0.000571</td>\n",
       "      <td>0.000028</td>\n",
       "      <td>0.000026</td>\n",
       "      <td>0.998488</td>\n",
       "      <td>0.000006</td>\n",
       "    </tr>\n",
       "    <tr>\n",
       "      <th>1</th>\n",
       "      <td>Ivan</td>\n",
       "      <td>Boyd</td>\n",
       "      <td>AE</td>\n",
       "      <td>4864621-1</td>\n",
       "      <td>0.902345</td>\n",
       "      <td>0.001243</td>\n",
       "      <td>0.028425</td>\n",
       "      <td>0.058078</td>\n",
       "      <td>0.006581</td>\n",
       "      <td>0.003329</td>\n",
       "    </tr>\n",
       "    <tr>\n",
       "      <th>2</th>\n",
       "      <td>Petr</td>\n",
       "      <td>Kubanek</td>\n",
       "      <td>AE</td>\n",
       "      <td>7741522-7</td>\n",
       "      <td>0.993643</td>\n",
       "      <td>0.000127</td>\n",
       "      <td>0.002414</td>\n",
       "      <td>0.001375</td>\n",
       "      <td>0.002247</td>\n",
       "      <td>0.000194</td>\n",
       "    </tr>\n",
       "    <tr>\n",
       "      <th>3</th>\n",
       "      <td>Barry</td>\n",
       "      <td>Potter</td>\n",
       "      <td>AE</td>\n",
       "      <td>5604215-2</td>\n",
       "      <td>0.982732</td>\n",
       "      <td>0.000389</td>\n",
       "      <td>0.000944</td>\n",
       "      <td>0.013537</td>\n",
       "      <td>0.000969</td>\n",
       "      <td>0.001429</td>\n",
       "    </tr>\n",
       "    <tr>\n",
       "      <th>4</th>\n",
       "      <td>Bruno</td>\n",
       "      <td>Schuermans</td>\n",
       "      <td>AE</td>\n",
       "      <td>6981358-4</td>\n",
       "      <td>0.953755</td>\n",
       "      <td>0.000328</td>\n",
       "      <td>0.032996</td>\n",
       "      <td>0.006749</td>\n",
       "      <td>0.005625</td>\n",
       "      <td>0.000548</td>\n",
       "    </tr>\n",
       "  </tbody>\n",
       "</table>\n",
       "</div>"
      ],
      "text/plain": [
       "  inventor_first_name inventor_last_name inventor_country inventor_id  \\\n",
       "0                Atul            Purohit               AE   5891620-2   \n",
       "1                Ivan               Boyd               AE   4864621-1   \n",
       "2                Petr            Kubanek               AE   7741522-7   \n",
       "3               Barry             Potter               AE   5604215-2   \n",
       "4               Bruno         Schuermans               AE   6981358-4   \n",
       "\n",
       "      White    2PRACE  Hispanic     Black       API      AIAN  \n",
       "0  0.000880  0.000571  0.000028  0.000026  0.998488  0.000006  \n",
       "1  0.902345  0.001243  0.028425  0.058078  0.006581  0.003329  \n",
       "2  0.993643  0.000127  0.002414  0.001375  0.002247  0.000194  \n",
       "3  0.982732  0.000389  0.000944  0.013537  0.000969  0.001429  \n",
       "4  0.953755  0.000328  0.032996  0.006749  0.005625  0.000548  "
      ]
     },
     "execution_count": 98,
     "metadata": {},
     "output_type": "execute_result"
    }
   ],
   "source": [
    "unique_inventors.head()"
   ]
  },
  {
   "cell_type": "code",
   "execution_count": 99,
   "metadata": {
    "collapsed": true
   },
   "outputs": [],
   "source": [
    "unique_inventors.to_csv(\"unique_names_test_results.csv\")"
   ]
  },
  {
   "cell_type": "code",
   "execution_count": null,
   "metadata": {
    "collapsed": true
   },
   "outputs": [],
   "source": []
  }
 ],
 "metadata": {
  "kernelspec": {
   "display_name": "Python 2",
   "language": "python",
   "name": "python2"
  },
  "language_info": {
   "codemirror_mode": {
    "name": "ipython",
    "version": 2
   },
   "file_extension": ".py",
   "mimetype": "text/x-python",
   "name": "python",
   "nbconvert_exporter": "python",
   "pygments_lexer": "ipython2",
   "version": "2.7.14"
  }
 },
 "nbformat": 4,
 "nbformat_minor": 2
}
